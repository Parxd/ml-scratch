{
 "cells": [
  {
   "cell_type": "code",
   "execution_count": 1,
   "metadata": {},
   "outputs": [],
   "source": [
    "import torch\n",
    "from torchvision.transforms import v2\n",
    "from uuid import uuid4\n",
    "import matplotlib.pyplot as plt\n",
    "\n",
    "from data.download import mnist_loader"
   ]
  },
  {
   "cell_type": "markdown",
   "metadata": {},
   "source": [
    "---"
   ]
  },
  {
   "cell_type": "code",
   "execution_count": 2,
   "metadata": {
    "tags": [
     "parameters"
    ]
   },
   "outputs": [
    {
     "name": "stderr",
     "output_type": "stream",
     "text": [
      "/home/parxed/code/projects/VENVS/ml-scratch/lib/python3.10/site-packages/torch/cuda/__init__.py:138: UserWarning: CUDA initialization: CUDA unknown error - this may be due to an incorrectly set up environment, e.g. changing env variable CUDA_VISIBLE_DEVICES after program start. Setting the available devices to be zero. (Triggered internally at ../c10/cuda/CUDAFunctions.cpp:108.)\n",
      "  return torch._C._cuda_getDeviceCount() > 0\n"
     ]
    }
   ],
   "source": [
    "LR = 0.01\n",
    "MOMENTUM = 0.9\n",
    "EPOCHS = 1\n",
    "BATCH_SIZE = 32\n",
    "SAVE = True\n",
    "GPU = torch.cuda.is_available()\n",
    "ROOT = \"./data\""
   ]
  },
  {
   "cell_type": "code",
   "execution_count": 3,
   "metadata": {
    "tags": [
     "parameters"
    ]
   },
   "outputs": [],
   "source": [
    "TRANSFORMS = v2.Compose([\n",
    "    v2.ToImage(),\n",
    "    v2.ToDtype(torch.float32, scale=True),\n",
    "    v2.Normalize((0.5,), (0.5,))  # need to provide iterable\n",
    "])"
   ]
  },
  {
   "cell_type": "code",
   "execution_count": null,
   "metadata": {},
   "outputs": [],
   "source": [
    "train_loader = mnist_loader(root=ROOT, train=True, transforms=TRANSFORMS)\n",
    "test_loader = mnist_loader(root=ROOT, train=False, transforms=TRANSFORMS)\n",
    "\n",
    "\n",
    "def train(model, loader, criterion, optimizer):\n",
    "    for epoch in range(EPOCHS):\n",
    "        for img, label in loader:\n",
    "            if GPU:\n",
    "                img, label = img.to('cuda'), label.to('cuda')\n",
    "            out = model(img).squeeze(axis=1)\n",
    "            loss = criterion(out, label)\n",
    "            loss.backward()\n",
    "\n",
    "            optimizer.step()\n",
    "            optimizer.zero_grad()\n",
    "\n",
    "        print(f\"Epoch {epoch} loss={loss.item()}\")\n",
    "\n",
    "\n",
    "def save(model):\n",
    "    if SAVE:\n",
    "        path = f\"./models/saves/{uuid4()}-mlp\"\n",
    "        torch.save(model.state_dict(), path)\n",
    "        print(\"Model saved under \" + path)"
   ]
  },
  {
   "cell_type": "markdown",
   "metadata": {},
   "source": [
    "- We squeeze the output matrix on axis 1, as the forward pass outputs shape [32, 1, 10]. \n",
    "- Cross-entropy loss expects class indices for target variable. `y` shape is [32], `y_hat` shape is [32, 10], where each of 32 points has raw outputs from output layer."
   ]
  },
  {
   "cell_type": "markdown",
   "metadata": {},
   "source": [
    "---"
   ]
  },
  {
   "cell_type": "markdown",
   "metadata": {},
   "source": [
    "### Standard MLP w/ 3 layers (784 -> 512 -> 256 -> 10) using LeakyReLU activations"
   ]
  },
  {
   "cell_type": "code",
   "execution_count": 6,
   "metadata": {},
   "outputs": [],
   "source": [
    "from models.mlp import MLP\n",
    "\n",
    "mlp = MLP()\n",
    "if GPU:\n",
    "    mlp.to('cuda')\n",
    "optimizer = torch.optim.SGD(mlp.parameters(), lr=LR, momentum=MOMENTUM)\n",
    "criterion = torch.nn.CrossEntropyLoss()"
   ]
  },
  {
   "cell_type": "markdown",
   "metadata": {},
   "source": [
    "##### Sample pass"
   ]
  },
  {
   "cell_type": "code",
   "execution_count": null,
   "metadata": {},
   "outputs": [],
   "source": [
    "y = torch.tensor([0, 8, 1, 1, 3, 0, 2, 2, 3, 1, 1, 4, 6, 0, 6, 3, 9, 1, 5, 8, 1, 3, 2, 5, 0, 5, 9, 2, 5, 8, 8, 3])\n",
    "y_hat = mlp(next(iter(train_loader))[0])\n",
    "print(torch.nn.CrossEntropyLoss(y_hat.squeeze(axis=1), y))\n",
    "print(y_hat.shape)"
   ]
  },
  {
   "cell_type": "markdown",
   "metadata": {},
   "source": [
    "- `y`: 1 x 32, values ranging from (0, NUM_Y_HAT_COLS - 1)\n",
    "- `y_hat`: 32 x 10"
   ]
  },
  {
   "cell_type": "code",
   "execution_count": 8,
   "metadata": {},
   "outputs": [],
   "source": [
    "train(mlp, train_loader, criterion, optimizer)"
   ]
  },
  {
   "cell_type": "markdown",
   "metadata": {},
   "source": [
    "---"
   ]
  },
  {
   "cell_type": "markdown",
   "metadata": {},
   "source": [
    "### Convolution Operator"
   ]
  },
  {
   "cell_type": "code",
   "execution_count": 12,
   "metadata": {},
   "outputs": [],
   "source": [
    "img = next(iter(mnist_loader(root=ROOT, train=True, transforms=TRANSFORMS)))[0][0]"
   ]
  },
  {
   "cell_type": "code",
   "execution_count": 13,
   "metadata": {},
   "outputs": [
    {
     "data": {
      "text/plain": [
       "<matplotlib.image.AxesImage at 0x7fe4a90f5cc0>"
      ]
     },
     "execution_count": 13,
     "metadata": {},
     "output_type": "execute_result"
    },
    {
     "data": {
      "image/png": "[encoded data removed]",
      "text/plain": [
       "<Figure size 640x480 with 2 Axes>"
      ]
     },
     "metadata": {},
     "output_type": "display_data"
    }
   ],
   "source": [
    "fig, (ax1, ax2) = plt.subplots(1, 2)\n",
    "\n",
    "ax1.imshow(img.squeeze())\n",
    "\n",
    "filter = torch.tensor([[[1., 1., 1.],\n",
    "                        [1., -5., 1.],\n",
    "                        [1., 1., 1.]]])\n",
    "convolved = torch.nn.functional.conv2d(img, filter.unsqueeze(0), stride=1, padding=0)\n",
    "ax2.imshow(convolved.squeeze())"
   ]
  },
  {
   "cell_type": "code",
   "execution_count": 14,
   "metadata": {},
   "outputs": [
    {
     "data": {
      "text/plain": [
       "<matplotlib.image.AxesImage at 0x7fe4a8e81f90>"
      ]
     },
     "execution_count": 14,
     "metadata": {},
     "output_type": "execute_result"
    },
    {
     "data": {
      "image/png": "[encoded data removed]",
      "text/plain": [
       "<Figure size 640x480 with 1 Axes>"
      ]
     },
     "metadata": {},
     "output_type": "display_data"
    }
   ],
   "source": [
    "test_sequence = torch.nn.Sequential(\n",
    "    torch.nn.Conv2d(1, 3, (2, 2)),\n",
    "    torch.nn.AvgPool2d((5, 5), 1, 1),\n",
    "    torch.nn.Conv2d(3, 1, (3, 3)),\n",
    "    torch.nn.MaxPool2d((5, 5), 1, 1),\n",
    "    torch.nn.Conv2d(1, 1, (8, 8))\n",
    ")\n",
    "plt.imshow(test_sequence(img).detach().numpy().squeeze())"
   ]
  },
  {
   "cell_type": "markdown",
   "metadata": {},
   "source": [
    "---"
   ]
  },
  {
   "cell_type": "code",
   "execution_count": 10,
   "metadata": {},
   "outputs": [],
   "source": [
    "from models.cnn import CNN_small\n",
    "\n",
    "cnn_small = CNN_small()\n",
    "criterion = torch.nn.CrossEntropyLoss()\n",
    "optimizer = torch.optim.SGD(params=cnn_small.parameters(),\n",
    "                            lr=0.01,\n",
    "                            momentum=0.9)\n",
    "\n",
    "train(cnn_small, train_loader, criterion, optimizer)"
   ]
  }
 ],
 "metadata": {
  "kernelspec": {
   "display_name": "ml-scratch",
   "language": "python",
   "name": "python3"
  },
  "language_info": {
   "codemirror_mode": {
    "name": "ipython",
    "version": 3
   },
   "file_extension": ".py",
   "mimetype": "text/x-python",
   "name": "python",
   "nbconvert_exporter": "python",
   "pygments_lexer": "ipython3",
   "version": "3.10.12"
  }
 },
 "nbformat": 4,
 "nbformat_minor": 2
}
