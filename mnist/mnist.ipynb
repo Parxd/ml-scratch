{
 "cells": [
  {
   "cell_type": "code",
   "execution_count": 3,
   "metadata": {},
   "outputs": [],
   "source": [
    "import torch\n",
    "from torchvision.transforms import v2\n",
    "from uuid import uuid4\n",
    "\n",
    "from data.download import mnist_loader\n",
    "from models.mlp import MLP"
   ]
  },
  {
   "cell_type": "markdown",
   "metadata": {},
   "source": [
    "---"
   ]
  },
  {
   "cell_type": "code",
   "execution_count": 4,
   "metadata": {},
   "outputs": [],
   "source": [
    "LR = 0.01\n",
    "MOMENTUM = 0.9\n",
    "EPOCHS = 1\n",
    "BATCH_SIZE = 32\n",
    "SAVE = True\n",
    "GPU = True\n",
    "ROOT = \"./data\""
   ]
  },
  {
   "cell_type": "code",
   "execution_count": 5,
   "metadata": {},
   "outputs": [],
   "source": [
    "TRANSFORMS = v2.Compose([\n",
    "    v2.ToImage(),\n",
    "    v2.ToDtype(torch.float32, scale=True),\n",
    "    v2.Normalize((0.5,), (0.5,))  # need to provide iterable\n",
    "])"
   ]
  },
  {
   "cell_type": "markdown",
   "metadata": {},
   "source": [
    "---"
   ]
  },
  {
   "cell_type": "code",
   "execution_count": 6,
   "metadata": {},
   "outputs": [],
   "source": [
    "model = MLP()\n",
    "train_loader = mnist_loader(root=ROOT, train=True, transforms=TRANSFORMS)\n",
    "test_loader = mnist_loader(root=ROOT, train=False, transforms=TRANSFORMS)"
   ]
  },
  {
   "cell_type": "code",
   "execution_count": null,
   "metadata": {},
   "outputs": [],
   "source": [
    "y_hat = model(next(iter(train_loader))[0])\n",
    "y = torch.tensor([0, 8, 1, 1, 3, 0, 2, 2, 3, 1, 1, 4, 6, 0, 6, 3, 9, 1, 5, 8, 1, 3, 2, 5, 0, 5, 9, 2, 5, 8, 8, 3])\n",
    "print(torch.nn.CrossEntropyLoss(y_hat.squeeze(axis=1), y))\n",
    "print(y_hat.shape)"
   ]
  },
  {
   "cell_type": "markdown",
   "metadata": {},
   "source": [
    "- `y`: 1 x 32, values ranging from (0, NUM_Y_HAT_COLS - 1)\n",
    "- `y_hat`: 32 x 10"
   ]
  },
  {
   "cell_type": "code",
   "execution_count": 8,
   "metadata": {},
   "outputs": [],
   "source": [
    "train_loader = mnist_loader(root=ROOT, train=True, transforms=TRANSFORMS)\n",
    "model = MLP()\n",
    "if GPU:\n",
    "    model.to('cuda')\n",
    "optimizer = torch.optim.SGD(model.parameters(), lr=LR, momentum=MOMENTUM)\n",
    "criterion = torch.nn.CrossEntropyLoss()"
   ]
  },
  {
   "cell_type": "code",
   "execution_count": null,
   "metadata": {},
   "outputs": [],
   "source": [
    "for epoch in range(EPOCHS):\n",
    "    for img, label in train_loader:\n",
    "        if GPU:\n",
    "            img, label = img.to('cuda'), label.to('cuda')\n",
    "        out = model(img).squeeze(axis=1)\n",
    "        loss = criterion(out, label)\n",
    "        loss.backward()\n",
    "\n",
    "        optimizer.step()\n",
    "        optimizer.zero_grad()\n",
    "\n",
    "    print(f\"Epoch {epoch} loss={loss.item()}\")\n",
    "\n",
    "if SAVE:\n",
    "    path = f\"./models/saves/{uuid4()}-mlp\"\n",
    "    torch.save(model.state_dict(), path)\n",
    "    print(\"Model saved under \" + path)"
   ]
  },
  {
   "cell_type": "markdown",
   "metadata": {},
   "source": [
    "- We squeeze the output matrix on axis 1, as the forward pass outputs shape [32, 1, 10]. \n",
    "- Cross-entropy loss expects class indices for target variable. `y` shape is [32], `y_hat` shape is [32, 10], where each of 32 points has raw outputs from output layer."
   ]
  }
 ],
 "metadata": {
  "kernelspec": {
   "display_name": "ml-scratch",
   "language": "python",
   "name": "python3"
  },
  "language_info": {
   "codemirror_mode": {
    "name": "ipython",
    "version": 3
   },
   "file_extension": ".py",
   "mimetype": "text/x-python",
   "name": "python",
   "nbconvert_exporter": "python",
   "pygments_lexer": "ipython3",
   "version": "3.10.12"
  }
 },
 "nbformat": 4,
 "nbformat_minor": 2
}
